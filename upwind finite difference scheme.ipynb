{
  "nbformat": 4,
  "nbformat_minor": 0,
  "metadata": {
    "colab": {
      "name": "upwind_code.ipynb",
      "provenance": [],
      "collapsed_sections": []
    },
    "kernelspec": {
      "name": "python3",
      "display_name": "Python 3"
    },
    "language_info": {
      "name": "python"
    }
  },
  "cells": [
    {
      "cell_type": "code",
      "execution_count": null,
      "metadata": {
        "id": "jolqU2kKAf3s"
      },
      "outputs": [],
      "source": [
        "import numpy as np\n",
        "import matplotlib.pyplot as plt\n",
        "plt.style.use('seaborn-poster')\n",
        "\n",
        "def upwind(): \n",
        "\n",
        "############### Space and Time discretization\n",
        " #n = 500\n",
        " #Phi = np.zeros(n)\n",
        " #delta_Phi = 3.45/(n-1)  \n",
        " #Phi[0] = -1.74\n",
        " #for i in range(1,n):\n",
        "  # Phi[i] = Phi[i-1] + delta_Phi\n",
        " #print(Phi)\n",
        "\n",
        " n = 500\n",
        " Phi = np.zeros(n)    # tf = 2\n",
        "# delta_Phi = 2.45/(n-1)\n",
        " #Phi[0] = -1.225\n",
        "\n",
        " delta_Phi = 10/(n-1)\n",
        " Phi[0] = -5\n",
        " for i in range(1,n):\n",
        "  Phi[i] = Phi[i-1] + delta_Phi\n",
        " #print(Phi)\n",
        "\n",
        "\n",
        " m = 500\n",
        " T = np.zeros(m)\n",
        " delta_t = 2/(m-1)\n",
        " T[0] = 0\n",
        " for i in range(1,m):\n",
        "  T[i] = T[i-1] + delta_t\n",
        " #print(T)\n",
        "\n",
        "############# Getting D_Phi(i) = abs(Phi(i) - x_f)^2 \n",
        " xf = 0\n",
        " D_Phi = np.zeros(n+2)\n",
        " D_Phi[0] = abs(Phi[0]-delta_Phi - xf)**2\n",
        " D_Phi[n+1] = abs(Phi[n-1]+delta_Phi - xf)**2\n",
        " for i in range(1,n+1):\n",
        "  D_Phi[i] = abs(Phi[i-1] -xf)**2\n",
        " #print(D_Phi)\n",
        "\n",
        "\n",
        "############# Getting f^\\ast and Z^\\ast\n",
        "# f^\\ast = b(Phi) + \\sigma(Phi)Z^\\ast = Phi[i] - Phi[i]**3 + Z^\\ast\n",
        "# Z^\\ast  =  -V_Phi(t,Phi) --> \n",
        "# Z*[i,j] = -V_Phi(j, Phi[i]) \n",
        "        # = { -(V[i,j]-V[i-1,j])/delta_Phi if f^\\ast > 0; -(V[i+1,j]-V[i,j])/delta_Phi if f^\\ast < 0} upwind scheme\n",
        "        # = { -(D(Phi[i]) - D(Phi[i-1]))/delta_Phi if f^\\ast > 0; -(D(Phi[i+1]) - D(Phi[i]))/delta_Phi if f^\\ast < 0} \n",
        " f_ast = np.zeros(n)\n",
        " Z = np.zeros(n)\n",
        " for i in range(0,n):\n",
        "    if (Phi[i]-Phi[i]**3 + (D_Phi[i]-D_Phi[i-1])/delta_Phi)>0:\n",
        "       Z[i] =  -(D_Phi[i]-D_Phi[i-1])/delta_Phi\n",
        "    elif (Phi[i]-Phi[i]**3 + (D_Phi[i+1]-D_Phi[i])/delta_Phi)<0: \n",
        "       Z[i] =  -(D_Phi[i]-D_Phi[i-1])/delta_Phi\n",
        "    f_ast[i] = Phi[i] - Phi[i]**3 + Z[i]\n",
        "#print(f_ast)\n",
        "#print(Z)\n",
        "\n",
        "########## Get the matrix A\n",
        " A = np.zeros((n,n))\n",
        " for i in range(0,n-1):\n",
        "   A[i,i] = 1 - (delta_t/delta_Phi)*(max(f_ast[i],0)-min(f_ast[i],0))\n",
        "   A[i,i+1] = -(delta_t/delta_Phi)*min(f_ast[i],0)\n",
        "   A[i+1,i] = (delta_t/delta_Phi)*max(f_ast[i],0)\n",
        "\n",
        "#print(A)\n",
        "\n",
        "\n",
        "############# Getting the initial values: V_tm  and  b_tm\n",
        "### Get the vector b_tm\n",
        " b = np.zeros(n)\n",
        " for i in range(0,n): \n",
        "   b[i] = -(0.5*delta_t)*Z[i]**2\n",
        "#print(b)\n",
        "\n",
        "### Get V_tm\n",
        " V = np.zeros(n)\n",
        " for i in range(0,n): \n",
        "   V[i] = abs(Phi[i]-xf)**2\n",
        "#print(V)\n",
        "\n",
        "############## Backward iteration\n",
        " while(m>0): \n",
        "   V = A*V + b\n",
        "   m-= 1\n",
        "\n",
        " Z_ast = -V[m-1]\n",
        "############# Plot the optimal control Z^\\ast\n",
        " #plt.figure(figsize=(10,8))\n",
        "# plt.plot(T[1:n], Z_ast[1:n],label='Z*(t)')\n",
        " #plt.xlabel('time (t)')\n",
        " #plt.ylabel('Z*(t)')\n",
        " #plt.show()\n",
        "\n",
        " plt.figure(figsize=(10,8))\n",
        " Phi_ast =np.zeros(n)\n",
        " Phi_ast[0] = -1\n",
        " for i in range(1,n):\n",
        "  Phi_ast[i] = Phi_ast[i-1] + (Phi_ast[i] - Phi_ast[i]**3 + Z_ast[i]\n",
        " plt.plot(T, Phi_ast,label='Phi(t)')\n",
        " plt.xlabel('time (t)')\n",
        " plt.ylabel('Phi*(t)')\n",
        " plt.show()\n",
        "\n",
        "\n",
        "\n",
        "############################## Please, check if the boundary condition defined below is correct. \n",
        "\n",
        "  ############## We define the boundary conditions and Compute Z_ast\n",
        "# V_bar = np.zeros(n+2)\n",
        " #V_bar[0] = 0    # boundary\n",
        " #V_bar[n+1] = 0  # boundary\n",
        " #V_bar[1:n+1] = V[m] # the previous V computed backward in time\n",
        " #Z_ast = np.zeros(n)\n",
        "\n",
        "############# Compute and Plot the optimal control Z^\\ast\n",
        " #for i in range(0,n):\n",
        "  #if (Phi[i]-Phi[i]**3 + ((V_bar[i+1] -V_bar[i])/delta_Phi)>0):\n",
        "   #    Z_ast[i] =  -(V_bar[i+1] -V_bar[i])/delta_Phi\n",
        "  #elif (Phi[i]-Phi[i]**3 + (V_bar[i] -V_bar[i-1])/delta_Phi)<0: \n",
        "   #    Z_ast[i] =  -(V_bar[i] -V_bar[i-1])/delta_Phi\n",
        " #plt.figure(figsize=(10,8))\n",
        " #plt.plot(T, Z_ast,label='Z*(t)')\n",
        " #plt.xlabel('time (t)')\n",
        " #plt.ylabel('Z*(t)')\n",
        " #plt.show()\n"
      ]
    },
    {
      "cell_type": "code",
      "source": [
        "upwind() \n"
      ],
      "metadata": {
        "colab": {
          "base_uri": "https://localhost:8080/",
          "height": 534
        },
        "id": "u2sruBaiWbZa",
        "outputId": "dd686815-3998-41a3-cd79-a9b5b942ffc3"
      },
      "execution_count": null,
      "outputs": [
        {
          "output_type": "stream",
          "name": "stderr",
          "text": [
            "/usr/local/lib/python3.7/dist-packages/ipykernel_launcher.py:88: RuntimeWarning: overflow encountered in multiply\n"
          ]
        },
        {
          "output_type": "display_data",
          "data": {
            "text/plain": [
              "<Figure size 720x576 with 1 Axes>"
            ],
            "image/png": "[encoded data removed]"
          },
          "metadata": {
            "needs_background": "light"
          }
        }
      ]
    }
  ]
}